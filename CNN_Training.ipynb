{
 "cells": [
  {
   "cell_type": "code",
   "execution_count": null,
   "id": "0d26cf66",
   "metadata": {
    "id": "0d26cf66"
   },
   "outputs": [],
   "source": [
    "import numpy as np\n",
    "import cv2\n",
    "import os\n",
    "import tensorflow as tf\n",
    "import matplotlib.pyplot as plt\n",
    "from tensorflow.keras.preprocessing.image import ImageDataGenerator\n",
    "from tensorflow.keras.preprocessing import image\n",
    "#from tensorflow.keras.preprocessing import RMSprop\n",
    "from tensorflow.keras.optimizers import RMSprop,Adam\n"
   ]
  },
  {
   "cell_type": "code",
   "execution_count": null,
   "id": "1MfQohtpZdeD",
   "metadata": {
    "colab": {
     "base_uri": "https://localhost:8080/"
    },
    "id": "1MfQohtpZdeD",
    "outputId": "02f55965-f18d-40a3-94ef-6fc41bfb9001"
   },
   "outputs": [
    {
     "name": "stdout",
     "output_type": "stream",
     "text": [
      "Mounted at /content/drive\n"
     ]
    }
   ],
   "source": [
    "from google.colab import drive\n",
    "drive.mount('/content/drive')"
   ]
  },
  {
   "cell_type": "code",
   "execution_count": null,
   "id": "378675a3",
   "metadata": {
    "id": "378675a3"
   },
   "outputs": [],
   "source": [
    "#Two classes\n",
    "train=ImageDataGenerator(rescale=1./255)\n",
    "test=ImageDataGenerator(rescale=1./255)"
   ]
  },
  {
   "cell_type": "code",
   "execution_count": null,
   "id": "f9e7534e",
   "metadata": {
    "id": "f9e7534e"
   },
   "outputs": [],
   "source": [
    "# input_dir = \"C:/Users/91969/Desktop/DATASET/PARALYSED IMAGES\"\n",
    "# output_dir = \"C:/Users/91969/Desktop/DATASET2/PARALYSED IMAGES\"\n",
    "# target_size = (224, 224)\n",
    "\n",
    "# # Create the output directory if it doesn't exist\n",
    "# if not os.path.exists(output_dir):\n",
    "#     os.makedirs(output_dir)\n",
    "\n",
    "# # Iterate through the files in the input directory\n",
    "# for filename in os.listdir(input_dir):\n",
    "#     if filename.endswith('.jpg') or filename.endswith('.png') or filename.endswith('.jpeg'):\n",
    "#         # Load the image\n",
    "#         image_path = os.path.join(input_dir, filename)\n",
    "#         image = cv2.imread(image_path)\n",
    "\n",
    "#         # Convert the image to grayscale\n",
    "#         grayscale_image = cv2.cvtColor(image, cv2.COLOR_BGR2GRAY)\n",
    "\n",
    "#         # Resize the grayscale image\n",
    "#         resized_image = cv2.resize(grayscale_image, target_size)\n",
    "\n",
    "#         # Save the resized image to the output directory\n",
    "#         output_path = os.path.join(output_dir, filename)\n",
    "#         cv2.imwrite(output_path, resized_image)\n"
   ]
  },
  {
   "cell_type": "code",
   "execution_count": null,
   "id": "6c83c7da",
   "metadata": {
    "colab": {
     "base_uri": "https://localhost:8080/"
    },
    "id": "6c83c7da",
    "outputId": "40a58b47-89bf-4f80-fba7-34f62b0b9101"
   },
   "outputs": [
    {
     "name": "stdout",
     "output_type": "stream",
     "text": [
      "Found 738 images belonging to 2 classes.\n",
      "Found 316 images belonging to 2 classes.\n"
     ]
    }
   ],
   "source": [
    "#convert images into dataset that can be fitted to our neural network\n",
    "\n",
    "train_dataset = train.flow_from_directory(\"/content/drive/MyDrive/tem/TRAINING\",\n",
    "                                           target_size=(224,224),\n",
    "                                           batch_size=25,\n",
    "                                           class_mode='binary')\n",
    "#for resize to given size=target\n",
    "#in batches neural netwrok will train up\n",
    "test_dataset = test.flow_from_directory(\"/content/drive/MyDrive/tem/TESTING\",\n",
    "                                         target_size=(224,224),\n",
    "                                         batch_size=25,\n",
    "                                         class_mode='binary')"
   ]
  },
  {
   "cell_type": "code",
   "execution_count": null,
   "id": "d0f59d03",
   "metadata": {
    "colab": {
     "base_uri": "https://localhost:8080/"
    },
    "id": "d0f59d03",
    "outputId": "3dcb0813-4f16-418f-8c31-d35071cb9c7a"
   },
   "outputs": [
    {
     "data": {
      "text/plain": [
       "{'NON-PARALYSED IMAGES': 0, 'PARALYSED IMAGES': 1}"
      ]
     },
     "execution_count": 7,
     "metadata": {},
     "output_type": "execute_result"
    }
   ],
   "source": [
    "train_dataset.class_indices"
   ]
  },
  {
   "cell_type": "code",
   "execution_count": null,
   "id": "e0a0658c",
   "metadata": {
    "colab": {
     "base_uri": "https://localhost:8080/"
    },
    "id": "e0a0658c",
    "outputId": "067cb27b-8316-473c-e243-6a184703c821"
   },
   "outputs": [
    {
     "data": {
      "text/plain": [
       "array([0, 0, 0, 0, 0, 0, 0, 0, 0, 0, 0, 0, 0, 0, 0, 0, 0, 0, 0, 0, 0, 0,\n",
       "       0, 0, 0, 0, 0, 0, 0, 0, 0, 0, 0, 0, 0, 0, 0, 0, 0, 0, 0, 0, 0, 0,\n",
       "       0, 0, 0, 0, 0, 0, 0, 0, 0, 0, 0, 0, 0, 0, 0, 0, 0, 0, 0, 0, 0, 0,\n",
       "       0, 0, 0, 0, 0, 0, 0, 0, 0, 0, 0, 0, 0, 0, 0, 0, 0, 0, 0, 0, 0, 0,\n",
       "       0, 0, 0, 0, 0, 0, 0, 0, 0, 0, 0, 0, 0, 0, 0, 0, 0, 0, 0, 0, 0, 0,\n",
       "       0, 0, 0, 0, 0, 0, 0, 0, 0, 0, 0, 0, 0, 0, 0, 0, 0, 0, 0, 0, 0, 0,\n",
       "       0, 0, 0, 0, 0, 0, 0, 0, 0, 0, 0, 0, 0, 0, 0, 0, 0, 0, 0, 0, 0, 0,\n",
       "       0, 0, 0, 0, 0, 0, 0, 0, 0, 0, 0, 0, 0, 0, 0, 0, 0, 0, 0, 0, 0, 0,\n",
       "       0, 0, 0, 0, 0, 0, 0, 0, 0, 0, 0, 0, 0, 0, 0, 0, 0, 0, 0, 0, 0, 0,\n",
       "       0, 0, 0, 0, 0, 0, 0, 0, 0, 0, 0, 0, 0, 0, 0, 0, 0, 0, 0, 0, 0, 0,\n",
       "       0, 0, 0, 0, 0, 0, 0, 0, 0, 0, 0, 0, 0, 0, 0, 0, 0, 0, 0, 0, 0, 0,\n",
       "       0, 0, 0, 0, 0, 0, 0, 0, 0, 0, 0, 0, 0, 0, 0, 0, 0, 0, 0, 0, 0, 0,\n",
       "       0, 0, 0, 0, 0, 0, 0, 0, 0, 0, 0, 0, 0, 0, 0, 0, 0, 0, 0, 0, 0, 0,\n",
       "       0, 0, 0, 0, 0, 0, 0, 0, 0, 0, 0, 0, 0, 0, 0, 0, 0, 0, 0, 0, 0, 0,\n",
       "       0, 0, 0, 0, 0, 0, 0, 0, 0, 0, 0, 0, 0, 0, 0, 0, 0, 0, 0, 0, 0, 0,\n",
       "       0, 0, 0, 0, 0, 0, 0, 0, 0, 0, 0, 0, 0, 0, 0, 0, 0, 0, 0, 0, 0, 0,\n",
       "       0, 0, 0, 0, 0, 0, 0, 0, 0, 0, 0, 0, 0, 0, 0, 0, 0, 1, 1, 1, 1, 1,\n",
       "       1, 1, 1, 1, 1, 1, 1, 1, 1, 1, 1, 1, 1, 1, 1, 1, 1, 1, 1, 1, 1, 1,\n",
       "       1, 1, 1, 1, 1, 1, 1, 1, 1, 1, 1, 1, 1, 1, 1, 1, 1, 1, 1, 1, 1, 1,\n",
       "       1, 1, 1, 1, 1, 1, 1, 1, 1, 1, 1, 1, 1, 1, 1, 1, 1, 1, 1, 1, 1, 1,\n",
       "       1, 1, 1, 1, 1, 1, 1, 1, 1, 1, 1, 1, 1, 1, 1, 1, 1, 1, 1, 1, 1, 1,\n",
       "       1, 1, 1, 1, 1, 1, 1, 1, 1, 1, 1, 1, 1, 1, 1, 1, 1, 1, 1, 1, 1, 1,\n",
       "       1, 1, 1, 1, 1, 1, 1, 1, 1, 1, 1, 1, 1, 1, 1, 1, 1, 1, 1, 1, 1, 1,\n",
       "       1, 1, 1, 1, 1, 1, 1, 1, 1, 1, 1, 1, 1, 1, 1, 1, 1, 1, 1, 1, 1, 1,\n",
       "       1, 1, 1, 1, 1, 1, 1, 1, 1, 1, 1, 1, 1, 1, 1, 1, 1, 1, 1, 1, 1, 1,\n",
       "       1, 1, 1, 1, 1, 1, 1, 1, 1, 1, 1, 1, 1, 1, 1, 1, 1, 1, 1, 1, 1, 1,\n",
       "       1, 1, 1, 1, 1, 1, 1, 1, 1, 1, 1, 1, 1, 1, 1, 1, 1, 1, 1, 1, 1, 1,\n",
       "       1, 1, 1, 1, 1, 1, 1, 1, 1, 1, 1, 1, 1, 1, 1, 1, 1, 1, 1, 1, 1, 1,\n",
       "       1, 1, 1, 1, 1, 1, 1, 1, 1, 1, 1, 1, 1, 1, 1, 1, 1, 1, 1, 1, 1, 1,\n",
       "       1, 1, 1, 1, 1, 1, 1, 1, 1, 1, 1, 1, 1, 1, 1, 1, 1, 1, 1, 1, 1, 1,\n",
       "       1, 1, 1, 1, 1, 1, 1, 1, 1, 1, 1, 1, 1, 1, 1, 1, 1, 1, 1, 1, 1, 1,\n",
       "       1, 1, 1, 1, 1, 1, 1, 1, 1, 1, 1, 1, 1, 1, 1, 1, 1, 1, 1, 1, 1, 1,\n",
       "       1, 1, 1, 1, 1, 1, 1, 1, 1, 1, 1, 1, 1, 1, 1, 1, 1, 1, 1, 1, 1, 1,\n",
       "       1, 1, 1, 1, 1, 1, 1, 1, 1, 1, 1, 1], dtype=int32)"
      ]
     },
     "execution_count": 8,
     "metadata": {},
     "output_type": "execute_result"
    }
   ],
   "source": [
    "train_dataset.classes"
   ]
  },
  {
   "cell_type": "code",
   "execution_count": null,
   "id": "0d0abc70",
   "metadata": {
    "colab": {
     "base_uri": "https://localhost:8080/"
    },
    "id": "0d0abc70",
    "outputId": "23c43c58-9de8-4c91-fa9b-5c339455e8ec"
   },
   "outputs": [
    {
     "name": "stdout",
     "output_type": "stream",
     "text": [
      "Epoch 1/41\n",
      "18/18 [==============================] - 131s 7s/step - loss: 0.7145 - accuracy: 0.5137 - val_loss: 0.6935 - val_accuracy: 0.5000\n",
      "Epoch 2/41\n",
      "18/18 [==============================] - 16s 859ms/step - loss: 0.6911 - accuracy: 0.5753 - val_loss: 0.6552 - val_accuracy: 0.5095\n",
      "Epoch 3/41\n",
      "18/18 [==============================] - 6s 334ms/step - loss: 0.6053 - accuracy: 0.7022 - val_loss: 0.4607 - val_accuracy: 0.8196\n",
      "Epoch 4/41\n",
      "18/18 [==============================] - 4s 229ms/step - loss: 0.5277 - accuracy: 0.7420 - val_loss: 0.4473 - val_accuracy: 0.8259\n",
      "Epoch 5/41\n",
      "18/18 [==============================] - 3s 177ms/step - loss: 0.5176 - accuracy: 0.7603 - val_loss: 0.4105 - val_accuracy: 0.8513\n",
      "Epoch 6/41\n",
      "18/18 [==============================] - 3s 141ms/step - loss: 0.4992 - accuracy: 0.7578 - val_loss: 0.4987 - val_accuracy: 0.8038\n",
      "Epoch 7/41\n",
      "18/18 [==============================] - 3s 142ms/step - loss: 0.4662 - accuracy: 0.7854 - val_loss: 0.5197 - val_accuracy: 0.7690\n",
      "Epoch 8/41\n",
      "18/18 [==============================] - 2s 125ms/step - loss: 0.4179 - accuracy: 0.8133 - val_loss: 0.5057 - val_accuracy: 0.8038\n",
      "Epoch 9/41\n",
      "18/18 [==============================] - 2s 124ms/step - loss: 0.4123 - accuracy: 0.8067 - val_loss: 0.3926 - val_accuracy: 0.8576\n",
      "Epoch 10/41\n",
      "18/18 [==============================] - 3s 171ms/step - loss: 0.4144 - accuracy: 0.8156 - val_loss: 0.4303 - val_accuracy: 0.8481\n",
      "Epoch 11/41\n",
      "18/18 [==============================] - 2s 126ms/step - loss: 0.3522 - accuracy: 0.8425 - val_loss: 0.4606 - val_accuracy: 0.8196\n",
      "Epoch 12/41\n",
      "18/18 [==============================] - 2s 125ms/step - loss: 0.3279 - accuracy: 0.8556 - val_loss: 0.4673 - val_accuracy: 0.8481\n",
      "Epoch 13/41\n",
      "18/18 [==============================] - 2s 126ms/step - loss: 0.2926 - accuracy: 0.8689 - val_loss: 0.4215 - val_accuracy: 0.8576\n",
      "Epoch 14/41\n",
      "18/18 [==============================] - 2s 138ms/step - loss: 0.2883 - accuracy: 0.8790 - val_loss: 0.4795 - val_accuracy: 0.8386\n",
      "Epoch 15/41\n",
      "18/18 [==============================] - 3s 153ms/step - loss: 0.2906 - accuracy: 0.8881 - val_loss: 0.4770 - val_accuracy: 0.8291\n",
      "Epoch 16/41\n",
      "18/18 [==============================] - 2s 121ms/step - loss: 0.2372 - accuracy: 0.9067 - val_loss: 0.5257 - val_accuracy: 0.8734\n",
      "Epoch 17/41\n",
      "18/18 [==============================] - 2s 125ms/step - loss: 0.2869 - accuracy: 0.8584 - val_loss: 0.4696 - val_accuracy: 0.8861\n",
      "Epoch 18/41\n",
      "18/18 [==============================] - 2s 123ms/step - loss: 0.2427 - accuracy: 0.8904 - val_loss: 0.4809 - val_accuracy: 0.8228\n",
      "Epoch 19/41\n",
      "18/18 [==============================] - 3s 172ms/step - loss: 0.1622 - accuracy: 0.9444 - val_loss: 0.7247 - val_accuracy: 0.8734\n",
      "Epoch 20/41\n",
      "18/18 [==============================] - 2s 125ms/step - loss: 0.2084 - accuracy: 0.9041 - val_loss: 0.7945 - val_accuracy: 0.8038\n",
      "Epoch 21/41\n",
      "18/18 [==============================] - 2s 122ms/step - loss: 0.1262 - accuracy: 0.9475 - val_loss: 0.8194 - val_accuracy: 0.8576\n",
      "Epoch 22/41\n",
      "18/18 [==============================] - 2s 125ms/step - loss: 0.1523 - accuracy: 0.9444 - val_loss: 0.5938 - val_accuracy: 0.8766\n",
      "Epoch 23/41\n",
      "18/18 [==============================] - 2s 127ms/step - loss: 0.1331 - accuracy: 0.9521 - val_loss: 0.7216 - val_accuracy: 0.8576\n",
      "Epoch 24/41\n",
      "18/18 [==============================] - 3s 153ms/step - loss: 0.1168 - accuracy: 0.9711 - val_loss: 0.6493 - val_accuracy: 0.8861\n",
      "Epoch 25/41\n",
      "18/18 [==============================] - 2s 123ms/step - loss: 0.1058 - accuracy: 0.9667 - val_loss: 0.6717 - val_accuracy: 0.8576\n",
      "Epoch 26/41\n",
      "18/18 [==============================] - 2s 123ms/step - loss: 0.0992 - accuracy: 0.9612 - val_loss: 0.6699 - val_accuracy: 0.8734\n",
      "Epoch 27/41\n",
      "18/18 [==============================] - 2s 119ms/step - loss: 0.0784 - accuracy: 0.9817 - val_loss: 0.5502 - val_accuracy: 0.8892\n",
      "Epoch 28/41\n",
      "18/18 [==============================] - 2s 123ms/step - loss: 0.0960 - accuracy: 0.9612 - val_loss: 0.5503 - val_accuracy: 0.8861\n",
      "Epoch 29/41\n",
      "18/18 [==============================] - 5s 288ms/step - loss: 0.0611 - accuracy: 0.9795 - val_loss: 0.8284 - val_accuracy: 0.8576\n",
      "Epoch 30/41\n",
      "18/18 [==============================] - 3s 169ms/step - loss: 0.0847 - accuracy: 0.9703 - val_loss: 0.8260 - val_accuracy: 0.8829\n",
      "Epoch 31/41\n",
      "18/18 [==============================] - 2s 126ms/step - loss: 0.0680 - accuracy: 0.9756 - val_loss: 0.5960 - val_accuracy: 0.9019\n",
      "Epoch 32/41\n",
      "18/18 [==============================] - 2s 126ms/step - loss: 0.0504 - accuracy: 0.9778 - val_loss: 1.1700 - val_accuracy: 0.8418\n",
      "Epoch 33/41\n",
      "18/18 [==============================] - 3s 141ms/step - loss: 0.0600 - accuracy: 0.9726 - val_loss: 0.9205 - val_accuracy: 0.8703\n",
      "Epoch 34/41\n",
      "18/18 [==============================] - 3s 172ms/step - loss: 0.0485 - accuracy: 0.9756 - val_loss: 0.9614 - val_accuracy: 0.8892\n",
      "Epoch 35/41\n",
      "18/18 [==============================] - 2s 122ms/step - loss: 0.0678 - accuracy: 0.9726 - val_loss: 0.8584 - val_accuracy: 0.8861\n",
      "Epoch 36/41\n",
      "18/18 [==============================] - 2s 120ms/step - loss: 0.0803 - accuracy: 0.9703 - val_loss: 0.6374 - val_accuracy: 0.8639\n",
      "Epoch 37/41\n",
      "18/18 [==============================] - 2s 122ms/step - loss: 0.0336 - accuracy: 0.9863 - val_loss: 0.7046 - val_accuracy: 0.8924\n",
      "Epoch 38/41\n",
      "18/18 [==============================] - 3s 151ms/step - loss: 0.0577 - accuracy: 0.9772 - val_loss: 0.8254 - val_accuracy: 0.8671\n",
      "Epoch 39/41\n",
      "18/18 [==============================] - 2s 121ms/step - loss: 0.0414 - accuracy: 0.9817 - val_loss: 0.8187 - val_accuracy: 0.8861\n",
      "Epoch 40/41\n",
      "18/18 [==============================] - 2s 123ms/step - loss: 0.0500 - accuracy: 0.9756 - val_loss: 0.9670 - val_accuracy: 0.8544\n",
      "Epoch 41/41\n",
      "18/18 [==============================] - 2s 127ms/step - loss: 0.0679 - accuracy: 0.9703 - val_loss: 0.8085 - val_accuracy: 0.8924\n"
     ]
    }
   ],
   "source": [
    "#Define model with maxpooling\n",
    "#16-filters, activation function, rgb image so 3 dimensional,maxpooling layer\n",
    "model = tf.keras.models.Sequential([\n",
    "    tf.keras.layers.Conv2D(16, (3,3), activation='relu', input_shape=(224,224,3)),\n",
    "    tf.keras.layers.MaxPool2D(2,2),\n",
    "    tf.keras.layers.Conv2D(32, (3,3), activation='relu'),\n",
    "    tf.keras.layers.MaxPool2D(2,2),\n",
    "    tf.keras.layers.Conv2D(64, (3,3), activation='relu'),\n",
    "    tf.keras.layers.MaxPool2D(2,2),\n",
    "    tf.keras.layers.Conv2D(128, (3,3), activation='relu'),\n",
    "    tf.keras.layers.MaxPool2D(2,2),\n",
    "    tf.keras.layers.Conv2D(256, (3,3), activation='relu'),\n",
    "    tf.keras.layers.MaxPool2D(2,2),\n",
    "    tf.keras.layers.Flatten(),\n",
    "    tf.keras.layers.Dense(512, activation='relu'),\n",
    "    tf.keras.layers.Dense(1, activation='sigmoid')\n",
    "])\n",
    "\n",
    "#layers in form of lists\n",
    "model.compile(loss='binary_crossentropy',\n",
    "              optimizer=Adam(learning_rate=0.001),\n",
    "              metrics=['accuracy'])\n",
    "\n",
    "model_fit = model.fit(train_dataset,\n",
    "                      steps_per_epoch=18,\n",
    "                      epochs=41,\n",
    "                      validation_data=test_dataset)   \n"
   ]
  },
  {
   "cell_type": "code",
   "execution_count": null,
   "id": "XgYwk2Qe7J2u",
   "metadata": {
    "colab": {
     "base_uri": "https://localhost:8080/"
    },
    "id": "XgYwk2Qe7J2u",
    "outputId": "48e43948-f1d2-478e-a564-ae328a9bb034"
   },
   "outputs": [
    {
     "name": "stdout",
     "output_type": "stream",
     "text": [
      "13/13 [==============================] - 1s 66ms/step - loss: 0.8085 - accuracy: 0.8924\n",
      "Overall Accuracy: 0.892405092716217\n"
     ]
    }
   ],
   "source": [
    "_, overall_accuracy = model.evaluate(test_dataset)\n",
    "\n",
    "# Print the overall accuracy\n",
    "print('Overall Accuracy:', overall_accuracy)"
   ]
  },
  {
   "cell_type": "code",
   "execution_count": null,
   "id": "qaKtxdj-wiCA",
   "metadata": {
    "id": "qaKtxdj-wiCA"
   },
   "outputs": [],
   "source": [
    "model.save(\"my_model.h5\")"
   ]
  },
  {
   "cell_type": "code",
   "execution_count": null,
   "id": "ec7b4f2c",
   "metadata": {
    "colab": {
     "base_uri": "https://localhost:8080/",
     "height": 17
    },
    "id": "ec7b4f2c",
    "outputId": "366e310e-5080-48a5-b9cc-48498b75da8a"
   },
   "outputs": [
    {
     "data": {
      "application/javascript": [
       "\n",
       "    async function download(id, filename, size) {\n",
       "      if (!google.colab.kernel.accessAllowed) {\n",
       "        return;\n",
       "      }\n",
       "      const div = document.createElement('div');\n",
       "      const label = document.createElement('label');\n",
       "      label.textContent = `Downloading \"${filename}\": `;\n",
       "      div.appendChild(label);\n",
       "      const progress = document.createElement('progress');\n",
       "      progress.max = size;\n",
       "      div.appendChild(progress);\n",
       "      document.body.appendChild(div);\n",
       "\n",
       "      const buffers = [];\n",
       "      let downloaded = 0;\n",
       "\n",
       "      const channel = await google.colab.kernel.comms.open(id);\n",
       "      // Send a message to notify the kernel that we're ready.\n",
       "      channel.send({})\n",
       "\n",
       "      for await (const message of channel.messages) {\n",
       "        // Send a message to notify the kernel that we're ready.\n",
       "        channel.send({})\n",
       "        if (message.buffers) {\n",
       "          for (const buffer of message.buffers) {\n",
       "            buffers.push(buffer);\n",
       "            downloaded += buffer.byteLength;\n",
       "            progress.value = downloaded;\n",
       "          }\n",
       "        }\n",
       "      }\n",
       "      const blob = new Blob(buffers, {type: 'application/binary'});\n",
       "      const a = document.createElement('a');\n",
       "      a.href = window.URL.createObjectURL(blob);\n",
       "      a.download = filename;\n",
       "      div.appendChild(a);\n",
       "      a.click();\n",
       "      div.remove();\n",
       "    }\n",
       "  "
      ],
      "text/plain": [
       "<IPython.core.display.Javascript object>"
      ]
     },
     "metadata": {},
     "output_type": "display_data"
    },
    {
     "data": {
      "application/javascript": [
       "download(\"download_1e50022c-70b5-4771-9f46-1d12c720a728\", \"my_model.h5\", 44111432)"
      ],
      "text/plain": [
       "<IPython.core.display.Javascript object>"
      ]
     },
     "metadata": {},
     "output_type": "display_data"
    }
   ],
   "source": [
    "from google.colab import files\n",
    "files.download('my_model.h5')  # Replace with your model file name"
   ]
  }
 ],
 "metadata": {
  "accelerator": "GPU",
  "colab": {
   "gpuType": "T4",
   "provenance": []
  },
  "kernelspec": {
   "display_name": "Python 3 (ipykernel)",
   "language": "python",
   "name": "python3"
  },
  "language_info": {
   "codemirror_mode": {
    "name": "ipython",
    "version": 3
   },
   "file_extension": ".py",
   "mimetype": "text/x-python",
   "name": "python",
   "nbconvert_exporter": "python",
   "pygments_lexer": "ipython3",
   "version": "3.10.7"
  }
 },
 "nbformat": 4,
 "nbformat_minor": 5
}
