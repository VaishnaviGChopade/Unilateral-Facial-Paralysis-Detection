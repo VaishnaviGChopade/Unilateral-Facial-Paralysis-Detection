{
 "cells": [
  {
   "cell_type": "code",
   "execution_count": null,
   "id": "2ad3bd03",
   "metadata": {
    "id": "2ad3bd03"
   },
   "outputs": [],
   "source": [
    "import numpy as np\n",
    "import cv2\n",
    "import os\n",
    "import tensorflow as tf\n",
    "import matplotlib.pyplot as plt\n",
    "from tensorflow.keras.preprocessing.image import ImageDataGenerator\n",
    "from tensorflow.keras.preprocessing import image\n",
    "from tensorflow.keras.applications import ResNet50\n",
    "#from tensorflow.keras.preprocessing import RMSprop\n",
    "from tensorflow.keras.optimizers import RMSprop,Adam"
   ]
  },
  {
   "cell_type": "code",
   "execution_count": null,
   "id": "taSDcR7m9o96",
   "metadata": {
    "colab": {
     "base_uri": "https://localhost:8080/"
    },
    "id": "taSDcR7m9o96",
    "outputId": "3f2e86ee-aa02-4ed1-b61f-aa501187aa51"
   },
   "outputs": [
    {
     "name": "stdout",
     "output_type": "stream",
     "text": [
      "Mounted at /content/drive\n"
     ]
    }
   ],
   "source": [
    "from google.colab import drive\n",
    "drive.mount('/content/drive')"
   ]
  },
  {
   "cell_type": "code",
   "execution_count": null,
   "id": "e92e1495",
   "metadata": {
    "id": "e92e1495"
   },
   "outputs": [],
   "source": [
    "#Two classes\n",
    "train=ImageDataGenerator(rescale=1./255)\n",
    "test=ImageDataGenerator(rescale=1./255)\n"
   ]
  },
  {
   "cell_type": "code",
   "execution_count": null,
   "id": "28e64deb",
   "metadata": {
    "colab": {
     "base_uri": "https://localhost:8080/"
    },
    "id": "28e64deb",
    "outputId": "c0d8338f-50a6-4a5e-d4bc-e5b821baa189"
   },
   "outputs": [
    {
     "name": "stdout",
     "output_type": "stream",
     "text": [
      "Found 738 images belonging to 2 classes.\n",
      "Found 316 images belonging to 2 classes.\n"
     ]
    }
   ],
   "source": [
    "train_dataset=train.flow_from_directory(\"/content/drive/MyDrive/tem/TRAINING\",\n",
    "                                        target_size=(224,224),\n",
    "                                        batch_size=15,\n",
    "                                        class_mode='binary')\n",
    "#for resize to given size=target\n",
    "#in batches neural netwrok will train up\n",
    "test_dataset=test.flow_from_directory(\"/content/drive/MyDrive/tem/TESTING\",\n",
    "                                        target_size=(224,224),\n",
    "                                        batch_size=15,\n",
    "                                        class_mode='binary')"
   ]
  },
  {
   "cell_type": "code",
   "execution_count": null,
   "id": "6e1beb79",
   "metadata": {
    "colab": {
     "base_uri": "https://localhost:8080/"
    },
    "id": "6e1beb79",
    "outputId": "185c27d2-f364-4a93-d279-6f869b0a3374"
   },
   "outputs": [
    {
     "data": {
      "text/plain": [
       "{'NON-PARALYSED IMAGES': 0, 'PARALYSED IMAGES': 1}"
      ]
     },
     "execution_count": 5,
     "metadata": {},
     "output_type": "execute_result"
    }
   ],
   "source": [
    "train_dataset.class_indices"
   ]
  },
  {
   "cell_type": "code",
   "execution_count": null,
   "id": "740165cf",
   "metadata": {
    "colab": {
     "base_uri": "https://localhost:8080/"
    },
    "id": "740165cf",
    "outputId": "b2219434-7ef9-4258-ce8a-de866633d66b"
   },
   "outputs": [
    {
     "name": "stdout",
     "output_type": "stream",
     "text": [
      "Downloading data from https://storage.googleapis.com/tensorflow/keras-applications/resnet/resnet50_weights_tf_dim_ordering_tf_kernels.h5\n",
      "102967424/102967424 [==============================] - 5s 0us/step\n",
      "Epoch 1/25\n",
      "12/12 [==============================] - 233s 20s/step - loss: 0.6930 - accuracy: 0.5417 - val_loss: 0.6931 - val_accuracy: 0.5158\n",
      "Epoch 2/25\n",
      "12/12 [==============================] - 39s 3s/step - loss: 0.6931 - accuracy: 0.5119 - val_loss: 0.6931 - val_accuracy: 0.5158\n",
      "Epoch 3/25\n",
      "12/12 [==============================] - 27s 2s/step - loss: 0.6931 - accuracy: 0.5000 - val_loss: 0.6931 - val_accuracy: 0.5158\n",
      "Epoch 4/25\n",
      "12/12 [==============================] - 22s 2s/step - loss: 0.6931 - accuracy: 0.5000 - val_loss: 0.6931 - val_accuracy: 0.5158\n",
      "Epoch 5/25\n",
      "12/12 [==============================] - 18s 2s/step - loss: 0.6930 - accuracy: 0.5278 - val_loss: 0.6931 - val_accuracy: 0.5158\n",
      "Epoch 6/25\n",
      "12/12 [==============================] - 9s 798ms/step - loss: 0.6930 - accuracy: 0.5444 - val_loss: 0.6931 - val_accuracy: 0.5158\n",
      "Epoch 7/25\n",
      "12/12 [==============================] - 11s 915ms/step - loss: 0.6930 - accuracy: 0.5167 - val_loss: 0.6931 - val_accuracy: 0.5158\n",
      "Epoch 8/25\n",
      "12/12 [==============================] - 9s 700ms/step - loss: 0.6930 - accuracy: 0.5444 - val_loss: 0.6931 - val_accuracy: 0.5158\n",
      "Epoch 9/25\n",
      "12/12 [==============================] - 7s 595ms/step - loss: 0.6931 - accuracy: 0.5000 - val_loss: 0.6931 - val_accuracy: 0.5158\n",
      "Epoch 10/25\n",
      "12/12 [==============================] - 5s 450ms/step - loss: 0.6932 - accuracy: 0.4889 - val_loss: 0.6931 - val_accuracy: 0.5158\n",
      "Epoch 11/25\n",
      "12/12 [==============================] - 6s 510ms/step - loss: 0.6931 - accuracy: 0.5060 - val_loss: 0.6931 - val_accuracy: 0.5158\n",
      "Epoch 12/25\n",
      "12/12 [==============================] - 4s 352ms/step - loss: 0.6932 - accuracy: 0.4583 - val_loss: 0.6931 - val_accuracy: 0.5158\n",
      "Epoch 13/25\n",
      "12/12 [==============================] - 4s 345ms/step - loss: 0.6931 - accuracy: 0.5222 - val_loss: 0.6931 - val_accuracy: 0.5158\n",
      "Epoch 14/25\n",
      "12/12 [==============================] - 4s 269ms/step - loss: 0.6931 - accuracy: 0.5060 - val_loss: 0.6931 - val_accuracy: 0.5158\n",
      "Epoch 15/25\n",
      "12/12 [==============================] - 2s 163ms/step - loss: 0.6928 - accuracy: 0.6000 - val_loss: 0.6931 - val_accuracy: 0.5158\n",
      "Epoch 16/25\n",
      "12/12 [==============================] - 2s 163ms/step - loss: 0.6929 - accuracy: 0.5667 - val_loss: 0.6931 - val_accuracy: 0.5158\n",
      "Epoch 17/25\n",
      "12/12 [==============================] - 2s 214ms/step - loss: 0.6930 - accuracy: 0.5595 - val_loss: 0.6931 - val_accuracy: 0.5158\n",
      "Epoch 18/25\n",
      "12/12 [==============================] - 2s 171ms/step - loss: 0.6929 - accuracy: 0.5889 - val_loss: 0.6931 - val_accuracy: 0.5158\n",
      "Epoch 19/25\n",
      "12/12 [==============================] - 3s 301ms/step - loss: 0.6931 - accuracy: 0.5000 - val_loss: 0.6931 - val_accuracy: 0.5158\n",
      "Epoch 20/25\n",
      "12/12 [==============================] - 2s 176ms/step - loss: 0.6930 - accuracy: 0.5357 - val_loss: 0.6931 - val_accuracy: 0.5158\n",
      "Epoch 21/25\n",
      "12/12 [==============================] - 2s 162ms/step - loss: 0.6931 - accuracy: 0.4944 - val_loss: 0.6931 - val_accuracy: 0.5158\n",
      "Epoch 22/25\n",
      "12/12 [==============================] - 2s 163ms/step - loss: 0.6930 - accuracy: 0.5298 - val_loss: 0.6931 - val_accuracy: 0.5158\n",
      "Epoch 23/25\n",
      "12/12 [==============================] - 3s 290ms/step - loss: 0.6930 - accuracy: 0.5278 - val_loss: 0.6931 - val_accuracy: 0.5158\n",
      "Epoch 24/25\n",
      "12/12 [==============================] - 2s 167ms/step - loss: 0.6930 - accuracy: 0.5222 - val_loss: 0.6931 - val_accuracy: 0.5158\n",
      "Epoch 25/25\n",
      "12/12 [==============================] - 2s 164ms/step - loss: 0.6931 - accuracy: 0.4722 - val_loss: 0.6931 - val_accuracy: 0.5158\n"
     ]
    }
   ],
   "source": [
    "from tensorflow.keras.layers import Flatten\n",
    "from tensorflow.keras.layers import Dense\n",
    "model = ResNet50(weights='imagenet')\n",
    "\n",
    "# Add new layers to the model\n",
    "x = model.output\n",
    "\n",
    "x = Flatten()(x)\n",
    "x = Dense(256, activation='relu')(x)\n",
    "predictions = Dense(1, activation='sigmoid')(x)\n",
    "\n",
    "# Create a new model with the added layers\n",
    "model = tf.keras.models.Model(inputs=model.input, outputs=predictions)\n",
    "\n",
    "# Freeze the weights of the pre-trained layers\n",
    "for layer in model.layers:\n",
    "    layer.trainable = False\n",
    "\n",
    "#layers in form of lists\n",
    "model.compile(loss='binary_crossentropy',\n",
    "              optimizer=Adam(learning_rate=0.001),\n",
    "              metrics=['accuracy'])\n",
    "\n",
    "model_fit = model.fit(train_dataset,\n",
    "                      steps_per_epoch=12,\n",
    "                      epochs=25,\n",
    "                      validation_data=test_dataset)   \n"
   ]
  },
  {
   "cell_type": "code",
   "execution_count": null,
   "id": "FKy8_sNvGsIt",
   "metadata": {
    "colab": {
     "base_uri": "https://localhost:8080/"
    },
    "id": "FKy8_sNvGsIt",
    "outputId": "67b5bc43-350f-4f55-ff72-0445ab13e21d"
   },
   "outputs": [
    {
     "name": "stdout",
     "output_type": "stream",
     "text": [
      "22/22 [==============================] - 1s 56ms/step - loss: 0.6931 - accuracy: 0.5158\n",
      "Overall accuracy: 0.5158227682113647\n"
     ]
    }
   ],
   "source": [
    "accuracy = model.evaluate(test_dataset)[1]\n",
    "print(\"Overall accuracy:\",accuracy)"
   ]
  },
  {
   "cell_type": "code",
   "execution_count": null,
   "id": "Vi1JFTBz3NGq",
   "metadata": {
    "id": "Vi1JFTBz3NGq"
   },
   "outputs": [],
   "source": [
    "model.save('/content/drive/MyDrive/Saved models/my_model_resnet50.h5')"
   ]
  }
 ],
 "metadata": {
  "accelerator": "GPU",
  "colab": {
   "gpuType": "T4",
   "provenance": []
  },
  "gpuClass": "standard",
  "kernelspec": {
   "display_name": "Python 3 (ipykernel)",
   "language": "python",
   "name": "python3"
  },
  "language_info": {
   "codemirror_mode": {
    "name": "ipython",
    "version": 3
   },
   "file_extension": ".py",
   "mimetype": "text/x-python",
   "name": "python",
   "nbconvert_exporter": "python",
   "pygments_lexer": "ipython3",
   "version": "3.10.7"
  }
 },
 "nbformat": 4,
 "nbformat_minor": 5
}
