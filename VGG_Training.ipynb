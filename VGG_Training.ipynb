{
 "cells": [
  {
   "cell_type": "code",
   "execution_count": null,
   "id": "833d37b7",
   "metadata": {
    "id": "833d37b7"
   },
   "outputs": [],
   "source": [
    "import numpy as np\n",
    "import cv2\n",
    "import os\n",
    "import tensorflow as tf\n",
    "import matplotlib.pyplot as plt\n",
    "from tensorflow.keras.preprocessing.image import ImageDataGenerator\n",
    "from tensorflow.keras.preprocessing import image\n",
    "from tensorflow.keras.applications.vgg16 import preprocess_input, VGG16\n",
    "#from tensorflow.keras.preprocessing import RMSprop\n",
    "from tensorflow.keras.optimizers import RMSprop"
   ]
  },
  {
   "cell_type": "code",
   "execution_count": null,
   "id": "Ugu1RfMAO4DR",
   "metadata": {
    "colab": {
     "base_uri": "https://localhost:8080/"
    },
    "id": "Ugu1RfMAO4DR",
    "outputId": "7686d1ab-2464-4584-c633-e82cba518b5b"
   },
   "outputs": [
    {
     "name": "stdout",
     "output_type": "stream",
     "text": [
      "Mounted at /content/drive\n"
     ]
    }
   ],
   "source": [
    "from google.colab import drive\n",
    "drive.mount('/content/drive')"
   ]
  },
  {
   "cell_type": "code",
   "execution_count": null,
   "id": "810a0c8a",
   "metadata": {
    "id": "810a0c8a"
   },
   "outputs": [],
   "source": [
    "#Two classes\n",
    "train=ImageDataGenerator(rescale=1./255)\n",
    "test=ImageDataGenerator(rescale=1./255)"
   ]
  },
  {
   "cell_type": "code",
   "execution_count": null,
   "id": "009e469a",
   "metadata": {
    "colab": {
     "base_uri": "https://localhost:8080/"
    },
    "id": "009e469a",
    "outputId": "b10ddafd-414b-4780-b0ad-2755f12d468e"
   },
   "outputs": [
    {
     "name": "stdout",
     "output_type": "stream",
     "text": [
      "Found 738 images belonging to 2 classes.\n",
      "Found 316 images belonging to 2 classes.\n"
     ]
    }
   ],
   "source": [
    "train_dataset=train.flow_from_directory(\"/content/drive/MyDrive/tem/TRAINING\",\n",
    "                                        target_size=(224,224),\n",
    "                                        batch_size=3,\n",
    "                                        class_mode='binary')\n",
    "#for resize to given size=target\n",
    "#in batches neural netwrok will train up\n",
    "test_dataset=test.flow_from_directory(\"/content/drive/MyDrive/tem/TESTING\",\n",
    "                                        target_size=(224,224),\n",
    "                                        batch_size=3,\n",
    "                                        class_mode='binary')"
   ]
  },
  {
   "cell_type": "code",
   "execution_count": null,
   "id": "6634e0e6",
   "metadata": {
    "colab": {
     "base_uri": "https://localhost:8080/"
    },
    "id": "6634e0e6",
    "outputId": "fa9ce8a0-3c02-4858-985e-053e5a5c8691"
   },
   "outputs": [
    {
     "data": {
      "text/plain": [
       "{'NON-PARALYSED IMAGES': 0, 'PARALYSED IMAGES': 1}"
      ]
     },
     "execution_count": 8,
     "metadata": {},
     "output_type": "execute_result"
    }
   ],
   "source": [
    "train_dataset.class_indices"
   ]
  },
  {
   "cell_type": "code",
   "execution_count": null,
   "id": "223bf769",
   "metadata": {
    "colab": {
     "base_uri": "https://localhost:8080/"
    },
    "id": "223bf769",
    "outputId": "a83cf318-68e6-4beb-eb45-d69c37d6bfa6"
   },
   "outputs": [
    {
     "data": {
      "text/plain": [
       "array([0, 0, 0, 0, 0, 0, 0, 0, 0, 0, 0, 0, 0, 0, 0, 0, 0, 0, 0, 0, 0, 0,\n",
       "       0, 0, 0, 0, 0, 0, 0, 0, 0, 0, 0, 0, 0, 0, 0, 0, 0, 0, 0, 0, 0, 0,\n",
       "       0, 0, 0, 0, 0, 0, 0, 0, 0, 0, 0, 0, 0, 0, 0, 0, 0, 0, 0, 0, 0, 0,\n",
       "       0, 0, 0, 0, 0, 0, 0, 0, 0, 0, 0, 0, 0, 0, 0, 0, 0, 0, 0, 0, 0, 0,\n",
       "       0, 0, 0, 0, 0, 0, 0, 0, 0, 0, 0, 0, 0, 0, 0, 0, 0, 0, 0, 0, 0, 0,\n",
       "       0, 0, 0, 0, 0, 0, 0, 0, 0, 0, 0, 0, 0, 0, 0, 0, 0, 0, 0, 0, 0, 0,\n",
       "       0, 0, 0, 0, 0, 0, 0, 0, 0, 0, 0, 0, 0, 0, 0, 0, 0, 0, 0, 0, 0, 0,\n",
       "       0, 0, 0, 0, 0, 0, 0, 0, 0, 0, 0, 0, 0, 0, 0, 0, 0, 0, 0, 0, 0, 0,\n",
       "       0, 0, 0, 0, 0, 0, 0, 0, 0, 0, 0, 0, 0, 0, 0, 0, 0, 0, 0, 0, 0, 0,\n",
       "       0, 0, 0, 0, 0, 0, 0, 0, 0, 0, 0, 0, 0, 0, 0, 0, 0, 0, 0, 0, 0, 0,\n",
       "       0, 0, 0, 0, 0, 0, 0, 0, 0, 0, 0, 0, 0, 0, 0, 0, 0, 0, 0, 0, 0, 0,\n",
       "       0, 0, 0, 0, 0, 0, 0, 0, 0, 0, 0, 0, 0, 0, 0, 0, 0, 0, 0, 0, 0, 0,\n",
       "       0, 0, 0, 0, 0, 0, 0, 0, 0, 0, 0, 0, 0, 0, 0, 0, 0, 0, 0, 0, 0, 0,\n",
       "       0, 0, 0, 0, 0, 0, 0, 0, 0, 0, 0, 0, 0, 0, 0, 0, 0, 0, 0, 0, 0, 0,\n",
       "       0, 0, 0, 0, 0, 0, 0, 0, 0, 0, 0, 0, 0, 0, 0, 0, 0, 0, 0, 0, 0, 0,\n",
       "       0, 0, 0, 0, 0, 0, 0, 0, 0, 0, 0, 0, 0, 0, 0, 0, 0, 0, 0, 0, 0, 0,\n",
       "       0, 0, 0, 0, 0, 0, 0, 0, 0, 0, 0, 0, 0, 0, 0, 0, 0, 1, 1, 1, 1, 1,\n",
       "       1, 1, 1, 1, 1, 1, 1, 1, 1, 1, 1, 1, 1, 1, 1, 1, 1, 1, 1, 1, 1, 1,\n",
       "       1, 1, 1, 1, 1, 1, 1, 1, 1, 1, 1, 1, 1, 1, 1, 1, 1, 1, 1, 1, 1, 1,\n",
       "       1, 1, 1, 1, 1, 1, 1, 1, 1, 1, 1, 1, 1, 1, 1, 1, 1, 1, 1, 1, 1, 1,\n",
       "       1, 1, 1, 1, 1, 1, 1, 1, 1, 1, 1, 1, 1, 1, 1, 1, 1, 1, 1, 1, 1, 1,\n",
       "       1, 1, 1, 1, 1, 1, 1, 1, 1, 1, 1, 1, 1, 1, 1, 1, 1, 1, 1, 1, 1, 1,\n",
       "       1, 1, 1, 1, 1, 1, 1, 1, 1, 1, 1, 1, 1, 1, 1, 1, 1, 1, 1, 1, 1, 1,\n",
       "       1, 1, 1, 1, 1, 1, 1, 1, 1, 1, 1, 1, 1, 1, 1, 1, 1, 1, 1, 1, 1, 1,\n",
       "       1, 1, 1, 1, 1, 1, 1, 1, 1, 1, 1, 1, 1, 1, 1, 1, 1, 1, 1, 1, 1, 1,\n",
       "       1, 1, 1, 1, 1, 1, 1, 1, 1, 1, 1, 1, 1, 1, 1, 1, 1, 1, 1, 1, 1, 1,\n",
       "       1, 1, 1, 1, 1, 1, 1, 1, 1, 1, 1, 1, 1, 1, 1, 1, 1, 1, 1, 1, 1, 1,\n",
       "       1, 1, 1, 1, 1, 1, 1, 1, 1, 1, 1, 1, 1, 1, 1, 1, 1, 1, 1, 1, 1, 1,\n",
       "       1, 1, 1, 1, 1, 1, 1, 1, 1, 1, 1, 1, 1, 1, 1, 1, 1, 1, 1, 1, 1, 1,\n",
       "       1, 1, 1, 1, 1, 1, 1, 1, 1, 1, 1, 1, 1, 1, 1, 1, 1, 1, 1, 1, 1, 1,\n",
       "       1, 1, 1, 1, 1, 1, 1, 1, 1, 1, 1, 1, 1, 1, 1, 1, 1, 1, 1, 1, 1, 1,\n",
       "       1, 1, 1, 1, 1, 1, 1, 1, 1, 1, 1, 1, 1, 1, 1, 1, 1, 1, 1, 1, 1, 1,\n",
       "       1, 1, 1, 1, 1, 1, 1, 1, 1, 1, 1, 1, 1, 1, 1, 1, 1, 1, 1, 1, 1, 1,\n",
       "       1, 1, 1, 1, 1, 1, 1, 1, 1, 1, 1, 1], dtype=int32)"
      ]
     },
     "execution_count": 9,
     "metadata": {},
     "output_type": "execute_result"
    }
   ],
   "source": [
    "train_dataset.classes"
   ]
  },
  {
   "cell_type": "code",
   "execution_count": null,
   "id": "63e427e4",
   "metadata": {
    "colab": {
     "base_uri": "https://localhost:8080/"
    },
    "id": "63e427e4",
    "outputId": "9fe27f68-0b98-4984-8852-a8ef7ea8f0ff",
    "scrolled": false
   },
   "outputs": [
    {
     "name": "stdout",
     "output_type": "stream",
     "text": [
      "Downloading data from https://storage.googleapis.com/tensorflow/keras-applications/vgg16/vgg16_weights_tf_dim_ordering_tf_kernels_notop.h5\n",
      "58889256/58889256 [==============================] - 2s 0us/step\n",
      "Epoch 1/25\n",
      "12/12 [==============================] - 150s 13s/step - loss: 0.7736 - accuracy: 0.4444 - val_loss: 0.7122 - val_accuracy: 0.5127\n",
      "Epoch 2/25\n",
      "12/12 [==============================] - 11s 894ms/step - loss: 0.7410 - accuracy: 0.4722 - val_loss: 0.7122 - val_accuracy: 0.5127\n",
      "Epoch 3/25\n",
      "12/12 [==============================] - 9s 728ms/step - loss: 0.7816 - accuracy: 0.4722 - val_loss: 0.7122 - val_accuracy: 0.5127\n",
      "Epoch 4/25\n",
      "12/12 [==============================] - 10s 789ms/step - loss: 0.7304 - accuracy: 0.5000 - val_loss: 0.7122 - val_accuracy: 0.5127\n",
      "Epoch 5/25\n",
      "12/12 [==============================] - 8s 714ms/step - loss: 0.7555 - accuracy: 0.5000 - val_loss: 0.7122 - val_accuracy: 0.5127\n",
      "Epoch 6/25\n",
      "12/12 [==============================] - 7s 631ms/step - loss: 0.6922 - accuracy: 0.5833 - val_loss: 0.7122 - val_accuracy: 0.5127\n",
      "Epoch 7/25\n",
      "12/12 [==============================] - 5s 383ms/step - loss: 0.8498 - accuracy: 0.3056 - val_loss: 0.7122 - val_accuracy: 0.5127\n",
      "Epoch 8/25\n",
      "12/12 [==============================] - 9s 744ms/step - loss: 0.6745 - accuracy: 0.6111 - val_loss: 0.7122 - val_accuracy: 0.5127\n",
      "Epoch 9/25\n",
      "12/12 [==============================] - 6s 515ms/step - loss: 0.8331 - accuracy: 0.3333 - val_loss: 0.7122 - val_accuracy: 0.5127\n",
      "Epoch 10/25\n",
      "12/12 [==============================] - 8s 681ms/step - loss: 0.6734 - accuracy: 0.5556 - val_loss: 0.7122 - val_accuracy: 0.5127\n",
      "Epoch 11/25\n",
      "12/12 [==============================] - 6s 566ms/step - loss: 0.7670 - accuracy: 0.4444 - val_loss: 0.7122 - val_accuracy: 0.5127\n",
      "Epoch 12/25\n",
      "12/12 [==============================] - 7s 613ms/step - loss: 0.7201 - accuracy: 0.5000 - val_loss: 0.7122 - val_accuracy: 0.5127\n",
      "Epoch 13/25\n",
      "12/12 [==============================] - 6s 515ms/step - loss: 0.7741 - accuracy: 0.4722 - val_loss: 0.7122 - val_accuracy: 0.5127\n",
      "Epoch 14/25\n",
      "12/12 [==============================] - 6s 540ms/step - loss: 0.7163 - accuracy: 0.5000 - val_loss: 0.7122 - val_accuracy: 0.5127\n",
      "Epoch 15/25\n",
      "12/12 [==============================] - 7s 558ms/step - loss: 0.6751 - accuracy: 0.6389 - val_loss: 0.7122 - val_accuracy: 0.5127\n",
      "Epoch 16/25\n",
      "12/12 [==============================] - 6s 513ms/step - loss: 0.6717 - accuracy: 0.5556 - val_loss: 0.7122 - val_accuracy: 0.5127\n",
      "Epoch 17/25\n",
      "12/12 [==============================] - 5s 407ms/step - loss: 0.7201 - accuracy: 0.5278 - val_loss: 0.7122 - val_accuracy: 0.5127\n",
      "Epoch 18/25\n",
      "12/12 [==============================] - 6s 569ms/step - loss: 0.6842 - accuracy: 0.5833 - val_loss: 0.7122 - val_accuracy: 0.5127\n",
      "Epoch 19/25\n",
      "12/12 [==============================] - 8s 623ms/step - loss: 0.6903 - accuracy: 0.5556 - val_loss: 0.7122 - val_accuracy: 0.5127\n",
      "Epoch 20/25\n",
      "12/12 [==============================] - 4s 335ms/step - loss: 0.7616 - accuracy: 0.3889 - val_loss: 0.7122 - val_accuracy: 0.5127\n",
      "Epoch 21/25\n",
      "12/12 [==============================] - 5s 390ms/step - loss: 0.7466 - accuracy: 0.4722 - val_loss: 0.7122 - val_accuracy: 0.5127\n",
      "Epoch 22/25\n",
      "12/12 [==============================] - 5s 375ms/step - loss: 0.7169 - accuracy: 0.4444 - val_loss: 0.7122 - val_accuracy: 0.5127\n",
      "Epoch 23/25\n",
      "12/12 [==============================] - 5s 442ms/step - loss: 0.6681 - accuracy: 0.5556 - val_loss: 0.7122 - val_accuracy: 0.5127\n",
      "Epoch 24/25\n",
      "12/12 [==============================] - 6s 531ms/step - loss: 0.6075 - accuracy: 0.7222 - val_loss: 0.7122 - val_accuracy: 0.5127\n",
      "Epoch 25/25\n",
      "12/12 [==============================] - 4s 290ms/step - loss: 0.7746 - accuracy: 0.4444 - val_loss: 0.7122 - val_accuracy: 0.5127\n"
     ]
    }
   ],
   "source": [
    "from tensorflow.keras.layers import Flatten\n",
    "from tensorflow.keras.layers import Dense\n",
    "from tensorflow.keras.optimizers import Adam\n",
    "model = VGG16(weights='imagenet', include_top=False, input_shape=(224,224, 3))\n",
    "\n",
    "# Add new layers to the model\n",
    "x = model.output\n",
    "\n",
    "x = Flatten()(x)\n",
    "x = Dense(256, activation='relu')(x)\n",
    "predictions = Dense(1, activation='sigmoid')(x)\n",
    "\n",
    "# Create a new model with the added layers\n",
    "model = tf.keras.models.Model(inputs=model.input, outputs=predictions)\n",
    "\n",
    "# Freeze the weights of the pre-trained layers\n",
    "for layer in model.layers:\n",
    "    layer.trainable = False\n",
    "\n",
    "#layers in form of lists\n",
    "model.compile(loss='binary_crossentropy',\n",
    "              optimizer=Adam(learning_rate=0.001),\n",
    "              metrics=['accuracy'])\n",
    "\n",
    "model_fit = model.fit(train_dataset,\n",
    "                      steps_per_epoch=12,\n",
    "                      epochs=25,\n",
    "                      validation_data=test_dataset)   \n"
   ]
  },
  {
   "cell_type": "code",
   "execution_count": null,
   "id": "I6UUlQKHaCwh",
   "metadata": {
    "colab": {
     "base_uri": "https://localhost:8080/"
    },
    "id": "I6UUlQKHaCwh",
    "outputId": "8b60b49f-4dce-4950-9dee-a5f697d7010f"
   },
   "outputs": [
    {
     "name": "stdout",
     "output_type": "stream",
     "text": [
      "106/106 [==============================] - 3s 25ms/step - loss: 0.7122 - accuracy: 0.5127\n",
      "Overall accuracy: 0.5126582384109497\n"
     ]
    }
   ],
   "source": [
    "accuracy = model.evaluate(test_dataset)[1]\n",
    "print(\"Overall accuracy:\",accuracy)"
   ]
  },
  {
   "cell_type": "code",
   "execution_count": null,
   "id": "ba38a305",
   "metadata": {
    "id": "ba38a305"
   },
   "outputs": [],
   "source": [
    "model.save('/content/drive/MyDrive/Saved models/my_model_vgg16.h5')"
   ]
  }
 ],
 "metadata": {
  "accelerator": "GPU",
  "colab": {
   "gpuType": "T4",
   "provenance": []
  },
  "kernelspec": {
   "display_name": "Python 3 (ipykernel)",
   "language": "python",
   "name": "python3"
  },
  "language_info": {
   "codemirror_mode": {
    "name": "ipython",
    "version": 3
   },
   "file_extension": ".py",
   "mimetype": "text/x-python",
   "name": "python",
   "nbconvert_exporter": "python",
   "pygments_lexer": "ipython3",
   "version": "3.10.7"
  }
 },
 "nbformat": 4,
 "nbformat_minor": 5
}
